{
  "cells": [
    {
      "cell_type": "markdown",
      "metadata": {
        "id": "d8be15d8-fa8b-4b4f-94d7-39ed53321abd"
      },
      "source": [
        "<p style=\"text-align:center\">\n",
        "    <a href=\"https://skills.network\" target=\"_blank\">\n",
        "    <img src=\"https://cf-courses-data.s3.us.cloud-object-storage.appdomain.cloud/assets/logos/SN_web_lightmode.png\" width=\"200\" alt=\"Skills Network Logo\"  />\n",
        "    </a>\n",
        "</p>\n"
      ]
    },
    {
      "cell_type": "markdown",
      "metadata": {
        "id": "ee706056-1bac-4cb0-820e-b9824ebdb12a"
      },
      "source": [
        "# **Data Wrangling Lab**\n"
      ]
    },
    {
      "cell_type": "markdown",
      "metadata": {
        "id": "51dc38be-5625-4c22-b622-dca1d20a2134"
      },
      "source": [
        "Estimated time needed: **45** minutes\n"
      ]
    },
    {
      "cell_type": "markdown",
      "metadata": {
        "id": "03086336-ee63-4d6a-a1ce-d243006d7057"
      },
      "source": [
        "In this lab, you will perform data wrangling tasks to prepare raw data for analysis. Data wrangling involves cleaning, transforming, and organizing data into a structured format suitable for analysis. This lab focuses on tasks like identifying inconsistencies, encoding categorical variables, and feature transformation.\n"
      ]
    },
    {
      "cell_type": "markdown",
      "metadata": {
        "id": "e223ac3e-4f39-44fa-a3fe-e1e0badf69ac"
      },
      "source": [
        "## Objectives\n"
      ]
    },
    {
      "cell_type": "markdown",
      "metadata": {
        "id": "1cddaf13-6966-4047-aa87-daebb0727a7b"
      },
      "source": [
        "After completing this lab, you will be able to:\n"
      ]
    },
    {
      "cell_type": "markdown",
      "metadata": {
        "id": "b268cb62-6e7c-4d79-be7c-d946a22c6923"
      },
      "source": [
        "- Identify and remove inconsistent data entries.\n",
        "\n",
        "- Encode categorical variables for analysis.\n",
        "\n",
        "- Handle missing values using multiple imputation strategies.\n",
        "\n",
        "- Apply feature scaling and transformation techniques.\n"
      ]
    },
    {
      "cell_type": "markdown",
      "metadata": {
        "id": "2c9b4baf-895a-4feb-9b7e-a15aedf316ad"
      },
      "source": [
        "#### Intsall the required libraries\n"
      ]
    },
    {
      "cell_type": "code",
      "metadata": {
        "colab": {
          "base_uri": "https://localhost:8080/"
        },
        "id": "73057dbb-7947-47cb-a232-3b73ed6a98c3",
        "outputId": "20db1427-1f70-40c0-df5c-fcfa5248158e"
      },
      "outputs": [
        {
          "output_type": "stream",
          "name": "stdout",
          "text": [
            "Requirement already satisfied: pandas in /usr/local/lib/python3.11/dist-packages (2.2.2)\n",
            "Requirement already satisfied: numpy>=1.23.2 in /usr/local/lib/python3.11/dist-packages (from pandas) (2.0.2)\n",
            "Requirement already satisfied: python-dateutil>=2.8.2 in /usr/local/lib/python3.11/dist-packages (from pandas) (2.9.0.post0)\n",
            "Requirement already satisfied: pytz>=2020.1 in /usr/local/lib/python3.11/dist-packages (from pandas) (2025.2)\n",
            "Requirement already satisfied: tzdata>=2022.7 in /usr/local/lib/python3.11/dist-packages (from pandas) (2025.2)\n",
            "Requirement already satisfied: six>=1.5 in /usr/local/lib/python3.11/dist-packages (from python-dateutil>=2.8.2->pandas) (1.17.0)\n",
            "Requirement already satisfied: matplotlib in /usr/local/lib/python3.11/dist-packages (3.10.0)\n",
            "Requirement already satisfied: contourpy>=1.0.1 in /usr/local/lib/python3.11/dist-packages (from matplotlib) (1.3.2)\n",
            "Requirement already satisfied: cycler>=0.10 in /usr/local/lib/python3.11/dist-packages (from matplotlib) (0.12.1)\n",
            "Requirement already satisfied: fonttools>=4.22.0 in /usr/local/lib/python3.11/dist-packages (from matplotlib) (4.58.4)\n",
            "Requirement already satisfied: kiwisolver>=1.3.1 in /usr/local/lib/python3.11/dist-packages (from matplotlib) (1.4.8)\n",
            "Requirement already satisfied: numpy>=1.23 in /usr/local/lib/python3.11/dist-packages (from matplotlib) (2.0.2)\n",
            "Requirement already satisfied: packaging>=20.0 in /usr/local/lib/python3.11/dist-packages (from matplotlib) (24.2)\n",
            "Requirement already satisfied: pillow>=8 in /usr/local/lib/python3.11/dist-packages (from matplotlib) (11.2.1)\n",
            "Requirement already satisfied: pyparsing>=2.3.1 in /usr/local/lib/python3.11/dist-packages (from matplotlib) (3.2.3)\n",
            "Requirement already satisfied: python-dateutil>=2.7 in /usr/local/lib/python3.11/dist-packages (from matplotlib) (2.9.0.post0)\n",
            "Requirement already satisfied: six>=1.5 in /usr/local/lib/python3.11/dist-packages (from python-dateutil>=2.7->matplotlib) (1.17.0)\n"
          ]
        }
      ],
      "source": [
        "!pip install pandas\n",
        "!pip install matplotlib"
      ],
      "execution_count": 1
    },
    {
      "cell_type": "markdown",
      "metadata": {
        "id": "37b8c69b-ce80-4c51-bef1-fa344e72a840"
      },
      "source": [
        "## Tasks\n"
      ]
    },
    {
      "cell_type": "markdown",
      "metadata": {
        "id": "9944eb65-42f7-4a97-bc2a-87f69456a1a4"
      },
      "source": [
        "#### Step 1: Import the necessary module.\n"
      ]
    },
    {
      "cell_type": "markdown",
      "metadata": {
        "id": "6f636b4c-6417-4cbc-a15d-da5bdab947e7"
      },
      "source": [
        "### 1. Load the Dataset\n"
      ]
    },
    {
      "cell_type": "markdown",
      "metadata": {
        "id": "d0302abc-6d29-4f75-9023-8bfd18365412"
      },
      "source": [
        "<h5>1.1 Import necessary libraries and load the dataset.</h5>\n"
      ]
    },
    {
      "cell_type": "markdown",
      "metadata": {
        "id": "d1acfb07-c289-45fc-a4a3-20bcad583eed"
      },
      "source": [
        "Ensure the dataset is loaded correctly by displaying the first few rows.\n"
      ]
    },
    {
      "cell_type": "code",
      "metadata": {
        "colab": {
          "base_uri": "https://localhost:8080/",
          "height": 515
        },
        "id": "417bbb3f-df8d-45ec-8d6e-8f695d9a4a25",
        "outputId": "6e1fd23a-a85c-49cb-a812-672642d6dac3"
      },
      "outputs": [
        {
          "output_type": "execute_result",
          "data": {
            "text/plain": [
              "   ResponseId                      MainBranch                 Age  \\\n",
              "0           1  I am a developer by profession  Under 18 years old   \n",
              "1           2  I am a developer by profession     35-44 years old   \n",
              "2           3  I am a developer by profession     45-54 years old   \n",
              "3           4           I am learning to code     18-24 years old   \n",
              "4           5  I am a developer by profession     18-24 years old   \n",
              "\n",
              "            Employment RemoteWork   Check  \\\n",
              "0  Employed, full-time     Remote  Apples   \n",
              "1  Employed, full-time     Remote  Apples   \n",
              "2  Employed, full-time     Remote  Apples   \n",
              "3   Student, full-time        NaN  Apples   \n",
              "4   Student, full-time        NaN  Apples   \n",
              "\n",
              "                                    CodingActivities  \\\n",
              "0                                              Hobby   \n",
              "1  Hobby;Contribute to open-source projects;Other...   \n",
              "2  Hobby;Contribute to open-source projects;Other...   \n",
              "3                                                NaN   \n",
              "4                                                NaN   \n",
              "\n",
              "                                             EdLevel  \\\n",
              "0                          Primary/elementary school   \n",
              "1       Bachelor’s degree (B.A., B.S., B.Eng., etc.)   \n",
              "2    Master’s degree (M.A., M.S., M.Eng., MBA, etc.)   \n",
              "3  Some college/university study without earning ...   \n",
              "4  Secondary school (e.g. American high school, G...   \n",
              "\n",
              "                                           LearnCode  \\\n",
              "0                             Books / Physical media   \n",
              "1  Books / Physical media;Colleague;On the job tr...   \n",
              "2  Books / Physical media;Colleague;On the job tr...   \n",
              "3  Other online resources (e.g., videos, blogs, f...   \n",
              "4  Other online resources (e.g., videos, blogs, f...   \n",
              "\n",
              "                                     LearnCodeOnline  ... JobSatPoints_6  \\\n",
              "0                                                NaN  ...            NaN   \n",
              "1  Technical documentation;Blogs;Books;Written Tu...  ...            0.0   \n",
              "2  Technical documentation;Blogs;Books;Written Tu...  ...            NaN   \n",
              "3  Stack Overflow;How-to videos;Interactive tutorial  ...            NaN   \n",
              "4  Technical documentation;Blogs;Written Tutorial...  ...            NaN   \n",
              "\n",
              "  JobSatPoints_7 JobSatPoints_8 JobSatPoints_9 JobSatPoints_10  \\\n",
              "0            NaN            NaN            NaN             NaN   \n",
              "1            0.0            0.0            0.0             0.0   \n",
              "2            NaN            NaN            NaN             NaN   \n",
              "3            NaN            NaN            NaN             NaN   \n",
              "4            NaN            NaN            NaN             NaN   \n",
              "\n",
              "  JobSatPoints_11           SurveyLength SurveyEase ConvertedCompYearly JobSat  \n",
              "0             NaN                    NaN        NaN                 NaN    NaN  \n",
              "1             0.0                    NaN        NaN                 NaN    NaN  \n",
              "2             NaN  Appropriate in length       Easy                 NaN    NaN  \n",
              "3             NaN               Too long       Easy                 NaN    NaN  \n",
              "4             NaN              Too short       Easy                 NaN    NaN  \n",
              "\n",
              "[5 rows x 114 columns]"
            ],
            "text/html": [
              "\n",
              "  <div id=\"df-132b19bd-38bb-434e-9bf7-4403ec5ba182\" class=\"colab-df-container\">\n",
              "    <div>\n",
              "<style scoped>\n",
              "    .dataframe tbody tr th:only-of-type {\n",
              "        vertical-align: middle;\n",
              "    }\n",
              "\n",
              "    .dataframe tbody tr th {\n",
              "        vertical-align: top;\n",
              "    }\n",
              "\n",
              "    .dataframe thead th {\n",
              "        text-align: right;\n",
              "    }\n",
              "</style>\n",
              "<table border=\"1\" class=\"dataframe\">\n",
              "  <thead>\n",
              "    <tr style=\"text-align: right;\">\n",
              "      <th></th>\n",
              "      <th>ResponseId</th>\n",
              "      <th>MainBranch</th>\n",
              "      <th>Age</th>\n",
              "      <th>Employment</th>\n",
              "      <th>RemoteWork</th>\n",
              "      <th>Check</th>\n",
              "      <th>CodingActivities</th>\n",
              "      <th>EdLevel</th>\n",
              "      <th>LearnCode</th>\n",
              "      <th>LearnCodeOnline</th>\n",
              "      <th>...</th>\n",
              "      <th>JobSatPoints_6</th>\n",
              "      <th>JobSatPoints_7</th>\n",
              "      <th>JobSatPoints_8</th>\n",
              "      <th>JobSatPoints_9</th>\n",
              "      <th>JobSatPoints_10</th>\n",
              "      <th>JobSatPoints_11</th>\n",
              "      <th>SurveyLength</th>\n",
              "      <th>SurveyEase</th>\n",
              "      <th>ConvertedCompYearly</th>\n",
              "      <th>JobSat</th>\n",
              "    </tr>\n",
              "  </thead>\n",
              "  <tbody>\n",
              "    <tr>\n",
              "      <th>0</th>\n",
              "      <td>1</td>\n",
              "      <td>I am a developer by profession</td>\n",
              "      <td>Under 18 years old</td>\n",
              "      <td>Employed, full-time</td>\n",
              "      <td>Remote</td>\n",
              "      <td>Apples</td>\n",
              "      <td>Hobby</td>\n",
              "      <td>Primary/elementary school</td>\n",
              "      <td>Books / Physical media</td>\n",
              "      <td>NaN</td>\n",
              "      <td>...</td>\n",
              "      <td>NaN</td>\n",
              "      <td>NaN</td>\n",
              "      <td>NaN</td>\n",
              "      <td>NaN</td>\n",
              "      <td>NaN</td>\n",
              "      <td>NaN</td>\n",
              "      <td>NaN</td>\n",
              "      <td>NaN</td>\n",
              "      <td>NaN</td>\n",
              "      <td>NaN</td>\n",
              "    </tr>\n",
              "    <tr>\n",
              "      <th>1</th>\n",
              "      <td>2</td>\n",
              "      <td>I am a developer by profession</td>\n",
              "      <td>35-44 years old</td>\n",
              "      <td>Employed, full-time</td>\n",
              "      <td>Remote</td>\n",
              "      <td>Apples</td>\n",
              "      <td>Hobby;Contribute to open-source projects;Other...</td>\n",
              "      <td>Bachelor’s degree (B.A., B.S., B.Eng., etc.)</td>\n",
              "      <td>Books / Physical media;Colleague;On the job tr...</td>\n",
              "      <td>Technical documentation;Blogs;Books;Written Tu...</td>\n",
              "      <td>...</td>\n",
              "      <td>0.0</td>\n",
              "      <td>0.0</td>\n",
              "      <td>0.0</td>\n",
              "      <td>0.0</td>\n",
              "      <td>0.0</td>\n",
              "      <td>0.0</td>\n",
              "      <td>NaN</td>\n",
              "      <td>NaN</td>\n",
              "      <td>NaN</td>\n",
              "      <td>NaN</td>\n",
              "    </tr>\n",
              "    <tr>\n",
              "      <th>2</th>\n",
              "      <td>3</td>\n",
              "      <td>I am a developer by profession</td>\n",
              "      <td>45-54 years old</td>\n",
              "      <td>Employed, full-time</td>\n",
              "      <td>Remote</td>\n",
              "      <td>Apples</td>\n",
              "      <td>Hobby;Contribute to open-source projects;Other...</td>\n",
              "      <td>Master’s degree (M.A., M.S., M.Eng., MBA, etc.)</td>\n",
              "      <td>Books / Physical media;Colleague;On the job tr...</td>\n",
              "      <td>Technical documentation;Blogs;Books;Written Tu...</td>\n",
              "      <td>...</td>\n",
              "      <td>NaN</td>\n",
              "      <td>NaN</td>\n",
              "      <td>NaN</td>\n",
              "      <td>NaN</td>\n",
              "      <td>NaN</td>\n",
              "      <td>NaN</td>\n",
              "      <td>Appropriate in length</td>\n",
              "      <td>Easy</td>\n",
              "      <td>NaN</td>\n",
              "      <td>NaN</td>\n",
              "    </tr>\n",
              "    <tr>\n",
              "      <th>3</th>\n",
              "      <td>4</td>\n",
              "      <td>I am learning to code</td>\n",
              "      <td>18-24 years old</td>\n",
              "      <td>Student, full-time</td>\n",
              "      <td>NaN</td>\n",
              "      <td>Apples</td>\n",
              "      <td>NaN</td>\n",
              "      <td>Some college/university study without earning ...</td>\n",
              "      <td>Other online resources (e.g., videos, blogs, f...</td>\n",
              "      <td>Stack Overflow;How-to videos;Interactive tutorial</td>\n",
              "      <td>...</td>\n",
              "      <td>NaN</td>\n",
              "      <td>NaN</td>\n",
              "      <td>NaN</td>\n",
              "      <td>NaN</td>\n",
              "      <td>NaN</td>\n",
              "      <td>NaN</td>\n",
              "      <td>Too long</td>\n",
              "      <td>Easy</td>\n",
              "      <td>NaN</td>\n",
              "      <td>NaN</td>\n",
              "    </tr>\n",
              "    <tr>\n",
              "      <th>4</th>\n",
              "      <td>5</td>\n",
              "      <td>I am a developer by profession</td>\n",
              "      <td>18-24 years old</td>\n",
              "      <td>Student, full-time</td>\n",
              "      <td>NaN</td>\n",
              "      <td>Apples</td>\n",
              "      <td>NaN</td>\n",
              "      <td>Secondary school (e.g. American high school, G...</td>\n",
              "      <td>Other online resources (e.g., videos, blogs, f...</td>\n",
              "      <td>Technical documentation;Blogs;Written Tutorial...</td>\n",
              "      <td>...</td>\n",
              "      <td>NaN</td>\n",
              "      <td>NaN</td>\n",
              "      <td>NaN</td>\n",
              "      <td>NaN</td>\n",
              "      <td>NaN</td>\n",
              "      <td>NaN</td>\n",
              "      <td>Too short</td>\n",
              "      <td>Easy</td>\n",
              "      <td>NaN</td>\n",
              "      <td>NaN</td>\n",
              "    </tr>\n",
              "  </tbody>\n",
              "</table>\n",
              "<p>5 rows × 114 columns</p>\n",
              "</div>\n",
              "    <div class=\"colab-df-buttons\">\n",
              "\n",
              "  <div class=\"colab-df-container\">\n",
              "    <button class=\"colab-df-convert\" onclick=\"convertToInteractive('df-132b19bd-38bb-434e-9bf7-4403ec5ba182')\"\n",
              "            title=\"Convert this dataframe to an interactive table.\"\n",
              "            style=\"display:none;\">\n",
              "\n",
              "  <svg xmlns=\"http://www.w3.org/2000/svg\" height=\"24px\" viewBox=\"0 -960 960 960\">\n",
              "    <path d=\"M120-120v-720h720v720H120Zm60-500h600v-160H180v160Zm220 220h160v-160H400v160Zm0 220h160v-160H400v160ZM180-400h160v-160H180v160Zm440 0h160v-160H620v160ZM180-180h160v-160H180v160Zm440 0h160v-160H620v160Z\"/>\n",
              "  </svg>\n",
              "    </button>\n",
              "\n",
              "  <style>\n",
              "    .colab-df-container {\n",
              "      display:flex;\n",
              "      gap: 12px;\n",
              "    }\n",
              "\n",
              "    .colab-df-convert {\n",
              "      background-color: #E8F0FE;\n",
              "      border: none;\n",
              "      border-radius: 50%;\n",
              "      cursor: pointer;\n",
              "      display: none;\n",
              "      fill: #1967D2;\n",
              "      height: 32px;\n",
              "      padding: 0 0 0 0;\n",
              "      width: 32px;\n",
              "    }\n",
              "\n",
              "    .colab-df-convert:hover {\n",
              "      background-color: #E2EBFA;\n",
              "      box-shadow: 0px 1px 2px rgba(60, 64, 67, 0.3), 0px 1px 3px 1px rgba(60, 64, 67, 0.15);\n",
              "      fill: #174EA6;\n",
              "    }\n",
              "\n",
              "    .colab-df-buttons div {\n",
              "      margin-bottom: 4px;\n",
              "    }\n",
              "\n",
              "    [theme=dark] .colab-df-convert {\n",
              "      background-color: #3B4455;\n",
              "      fill: #D2E3FC;\n",
              "    }\n",
              "\n",
              "    [theme=dark] .colab-df-convert:hover {\n",
              "      background-color: #434B5C;\n",
              "      box-shadow: 0px 1px 3px 1px rgba(0, 0, 0, 0.15);\n",
              "      filter: drop-shadow(0px 1px 2px rgba(0, 0, 0, 0.3));\n",
              "      fill: #FFFFFF;\n",
              "    }\n",
              "  </style>\n",
              "\n",
              "    <script>\n",
              "      const buttonEl =\n",
              "        document.querySelector('#df-132b19bd-38bb-434e-9bf7-4403ec5ba182 button.colab-df-convert');\n",
              "      buttonEl.style.display =\n",
              "        google.colab.kernel.accessAllowed ? 'block' : 'none';\n",
              "\n",
              "      async function convertToInteractive(key) {\n",
              "        const element = document.querySelector('#df-132b19bd-38bb-434e-9bf7-4403ec5ba182');\n",
              "        const dataTable =\n",
              "          await google.colab.kernel.invokeFunction('convertToInteractive',\n",
              "                                                    [key], {});\n",
              "        if (!dataTable) return;\n",
              "\n",
              "        const docLinkHtml = 'Like what you see? Visit the ' +\n",
              "          '<a target=\"_blank\" href=https://colab.research.google.com/notebooks/data_table.ipynb>data table notebook</a>'\n",
              "          + ' to learn more about interactive tables.';\n",
              "        element.innerHTML = '';\n",
              "        dataTable['output_type'] = 'display_data';\n",
              "        await google.colab.output.renderOutput(dataTable, element);\n",
              "        const docLink = document.createElement('div');\n",
              "        docLink.innerHTML = docLinkHtml;\n",
              "        element.appendChild(docLink);\n",
              "      }\n",
              "    </script>\n",
              "  </div>\n",
              "\n",
              "\n",
              "    <div id=\"df-a46cfc1f-b685-4700-b610-bc2380f203fa\">\n",
              "      <button class=\"colab-df-quickchart\" onclick=\"quickchart('df-a46cfc1f-b685-4700-b610-bc2380f203fa')\"\n",
              "                title=\"Suggest charts\"\n",
              "                style=\"display:none;\">\n",
              "\n",
              "<svg xmlns=\"http://www.w3.org/2000/svg\" height=\"24px\"viewBox=\"0 0 24 24\"\n",
              "     width=\"24px\">\n",
              "    <g>\n",
              "        <path d=\"M19 3H5c-1.1 0-2 .9-2 2v14c0 1.1.9 2 2 2h14c1.1 0 2-.9 2-2V5c0-1.1-.9-2-2-2zM9 17H7v-7h2v7zm4 0h-2V7h2v10zm4 0h-2v-4h2v4z\"/>\n",
              "    </g>\n",
              "</svg>\n",
              "      </button>\n",
              "\n",
              "<style>\n",
              "  .colab-df-quickchart {\n",
              "      --bg-color: #E8F0FE;\n",
              "      --fill-color: #1967D2;\n",
              "      --hover-bg-color: #E2EBFA;\n",
              "      --hover-fill-color: #174EA6;\n",
              "      --disabled-fill-color: #AAA;\n",
              "      --disabled-bg-color: #DDD;\n",
              "  }\n",
              "\n",
              "  [theme=dark] .colab-df-quickchart {\n",
              "      --bg-color: #3B4455;\n",
              "      --fill-color: #D2E3FC;\n",
              "      --hover-bg-color: #434B5C;\n",
              "      --hover-fill-color: #FFFFFF;\n",
              "      --disabled-bg-color: #3B4455;\n",
              "      --disabled-fill-color: #666;\n",
              "  }\n",
              "\n",
              "  .colab-df-quickchart {\n",
              "    background-color: var(--bg-color);\n",
              "    border: none;\n",
              "    border-radius: 50%;\n",
              "    cursor: pointer;\n",
              "    display: none;\n",
              "    fill: var(--fill-color);\n",
              "    height: 32px;\n",
              "    padding: 0;\n",
              "    width: 32px;\n",
              "  }\n",
              "\n",
              "  .colab-df-quickchart:hover {\n",
              "    background-color: var(--hover-bg-color);\n",
              "    box-shadow: 0 1px 2px rgba(60, 64, 67, 0.3), 0 1px 3px 1px rgba(60, 64, 67, 0.15);\n",
              "    fill: var(--button-hover-fill-color);\n",
              "  }\n",
              "\n",
              "  .colab-df-quickchart-complete:disabled,\n",
              "  .colab-df-quickchart-complete:disabled:hover {\n",
              "    background-color: var(--disabled-bg-color);\n",
              "    fill: var(--disabled-fill-color);\n",
              "    box-shadow: none;\n",
              "  }\n",
              "\n",
              "  .colab-df-spinner {\n",
              "    border: 2px solid var(--fill-color);\n",
              "    border-color: transparent;\n",
              "    border-bottom-color: var(--fill-color);\n",
              "    animation:\n",
              "      spin 1s steps(1) infinite;\n",
              "  }\n",
              "\n",
              "  @keyframes spin {\n",
              "    0% {\n",
              "      border-color: transparent;\n",
              "      border-bottom-color: var(--fill-color);\n",
              "      border-left-color: var(--fill-color);\n",
              "    }\n",
              "    20% {\n",
              "      border-color: transparent;\n",
              "      border-left-color: var(--fill-color);\n",
              "      border-top-color: var(--fill-color);\n",
              "    }\n",
              "    30% {\n",
              "      border-color: transparent;\n",
              "      border-left-color: var(--fill-color);\n",
              "      border-top-color: var(--fill-color);\n",
              "      border-right-color: var(--fill-color);\n",
              "    }\n",
              "    40% {\n",
              "      border-color: transparent;\n",
              "      border-right-color: var(--fill-color);\n",
              "      border-top-color: var(--fill-color);\n",
              "    }\n",
              "    60% {\n",
              "      border-color: transparent;\n",
              "      border-right-color: var(--fill-color);\n",
              "    }\n",
              "    80% {\n",
              "      border-color: transparent;\n",
              "      border-right-color: var(--fill-color);\n",
              "      border-bottom-color: var(--fill-color);\n",
              "    }\n",
              "    90% {\n",
              "      border-color: transparent;\n",
              "      border-bottom-color: var(--fill-color);\n",
              "    }\n",
              "  }\n",
              "</style>\n",
              "\n",
              "      <script>\n",
              "        async function quickchart(key) {\n",
              "          const quickchartButtonEl =\n",
              "            document.querySelector('#' + key + ' button');\n",
              "          quickchartButtonEl.disabled = true;  // To prevent multiple clicks.\n",
              "          quickchartButtonEl.classList.add('colab-df-spinner');\n",
              "          try {\n",
              "            const charts = await google.colab.kernel.invokeFunction(\n",
              "                'suggestCharts', [key], {});\n",
              "          } catch (error) {\n",
              "            console.error('Error during call to suggestCharts:', error);\n",
              "          }\n",
              "          quickchartButtonEl.classList.remove('colab-df-spinner');\n",
              "          quickchartButtonEl.classList.add('colab-df-quickchart-complete');\n",
              "        }\n",
              "        (() => {\n",
              "          let quickchartButtonEl =\n",
              "            document.querySelector('#df-a46cfc1f-b685-4700-b610-bc2380f203fa button');\n",
              "          quickchartButtonEl.style.display =\n",
              "            google.colab.kernel.accessAllowed ? 'block' : 'none';\n",
              "        })();\n",
              "      </script>\n",
              "    </div>\n",
              "\n",
              "    </div>\n",
              "  </div>\n"
            ],
            "application/vnd.google.colaboratory.intrinsic+json": {
              "type": "dataframe",
              "variable_name": "df"
            }
          },
          "metadata": {},
          "execution_count": 50
        }
      ],
      "source": [
        "# Import necessary libraries\n",
        "import pandas as pd\n",
        "\n",
        "# Load the Stack Overflow survey data\n",
        "dataset_url = \"https://cf-courses-data.s3.us.cloud-object-storage.appdomain.cloud/n01PQ9pSmiRX6520flujwQ/survey-data.csv\"\n",
        "df = pd.read_csv(dataset_url)\n",
        "\n",
        "# Display the first few rows\n",
        "df.head()"
      ],
      "execution_count": 50
    },
    {
      "cell_type": "markdown",
      "metadata": {
        "id": "5c7df306-0dd0-4566-a376-bad64fbf6455"
      },
      "source": [
        "#### 2. Explore the Dataset\n"
      ]
    },
    {
      "cell_type": "markdown",
      "metadata": {
        "id": "0a7b356e-a83e-478a-bd04-da95500e0304"
      },
      "source": [
        "<h5>2.1 Summarize the dataset by displaying the column data types, counts, and missing values.</h5>\n"
      ]
    },
    {
      "cell_type": "code",
      "metadata": {
        "colab": {
          "base_uri": "https://localhost:8080/"
        },
        "id": "a5b368e2-4d3c-4382-9b1c-458be459ecef",
        "outputId": "563377f2-a391-4503-88a4-699faa5cfdb7"
      },
      "outputs": [
        {
          "output_type": "stream",
          "name": "stdout",
          "text": [
            "Data Types:\n",
            " ResponseId                                                        int64\n",
            "MainBranch                                                       object\n",
            "Age                                                              object\n",
            "RemoteWork                                                       object\n",
            "Check                                                            object\n",
            "                                                                  ...  \n",
            "Emp_Student, full-time;Student, part-time;Employed, part-time      bool\n",
            "Emp_Student, full-time;Student, part-time;Retired                  bool\n",
            "Emp_Student, part-time                                             bool\n",
            "Emp_Student, part-time;Employed, part-time                         bool\n",
            "Emp_Student, part-time;Retired                                     bool\n",
            "Length: 223, dtype: object\n",
            "Data Counts:\n",
            " ResponseId                                                       65437\n",
            "MainBranch                                                       65437\n",
            "Age                                                              65437\n",
            "RemoteWork                                                       54806\n",
            "Check                                                            65437\n",
            "                                                                 ...  \n",
            "Emp_Student, full-time;Student, part-time;Employed, part-time    65437\n",
            "Emp_Student, full-time;Student, part-time;Retired                65437\n",
            "Emp_Student, part-time                                           65437\n",
            "Emp_Student, part-time;Employed, part-time                       65437\n",
            "Emp_Student, part-time;Retired                                   65437\n",
            "Length: 223, dtype: int64\n",
            "Missing Value Counts:\n",
            " ResponseId                                                           0\n",
            "MainBranch                                                           0\n",
            "Age                                                                  0\n",
            "RemoteWork                                                       10631\n",
            "Check                                                                0\n",
            "                                                                 ...  \n",
            "Emp_Student, full-time;Student, part-time;Employed, part-time        0\n",
            "Emp_Student, full-time;Student, part-time;Retired                    0\n",
            "Emp_Student, part-time                                               0\n",
            "Emp_Student, part-time;Employed, part-time                           0\n",
            "Emp_Student, part-time;Retired                                       0\n",
            "Length: 223, dtype: int64\n"
          ]
        }
      ],
      "source": [
        "print(\"Data Types:\\n\",df.dtypes)\n",
        "print(\"Data Counts:\\n\",df.count())\n",
        "print(\"Missing Value Counts:\\n\",df.isnull().sum())"
      ],
      "execution_count": 49
    },
    {
      "cell_type": "markdown",
      "metadata": {
        "id": "685cdd1b-44d7-40cf-ba9f-ee347f747832"
      },
      "source": [
        "<h5>2.2 Generate basic statistics for numerical columns.</h5>\n"
      ]
    },
    {
      "cell_type": "code",
      "metadata": {
        "colab": {
          "base_uri": "https://localhost:8080/"
        },
        "id": "e527b643-6963-4a64-aab2-297894062fcb",
        "outputId": "efc48fed-676b-4b73-e363-7c7f41c00266"
      },
      "outputs": [
        {
          "output_type": "stream",
          "name": "stdout",
          "text": [
            "Basic Statistics for Numerical Columns:\n",
            "          ResponseId      CompTotal       WorkExp  JobSatPoints_1  \\\n",
            "count  65437.000000   3.374000e+04  29658.000000    29324.000000   \n",
            "mean   32719.000000  2.963841e+145     11.466957       18.581094   \n",
            "std    18890.179119  5.444117e+147      9.168709       25.966221   \n",
            "min        1.000000   0.000000e+00      0.000000        0.000000   \n",
            "25%    16360.000000   6.000000e+04      4.000000        0.000000   \n",
            "50%    32719.000000   1.100000e+05      9.000000       10.000000   \n",
            "75%    49078.000000   2.500000e+05     16.000000       22.000000   \n",
            "max    65437.000000  1.000000e+150     50.000000      100.000000   \n",
            "\n",
            "       JobSatPoints_4  JobSatPoints_5  JobSatPoints_6  JobSatPoints_7  \\\n",
            "count    29393.000000    29411.000000    29450.000000     29448.00000   \n",
            "mean         7.522140       10.060857       24.343232        22.96522   \n",
            "std         18.422661       21.833836       27.089360        27.01774   \n",
            "min          0.000000        0.000000        0.000000         0.00000   \n",
            "25%          0.000000        0.000000        0.000000         0.00000   \n",
            "50%          0.000000        0.000000       20.000000        15.00000   \n",
            "75%          5.000000       10.000000       30.000000        30.00000   \n",
            "max        100.000000      100.000000      100.000000       100.00000   \n",
            "\n",
            "       JobSatPoints_8  JobSatPoints_9  JobSatPoints_10  JobSatPoints_11  \\\n",
            "count    29456.000000    29456.000000     29450.000000     29445.000000   \n",
            "mean        20.278165       16.169432        10.955713         9.953948   \n",
            "std         26.108110       24.845032        22.906263        21.775652   \n",
            "min          0.000000        0.000000         0.000000         0.000000   \n",
            "25%          0.000000        0.000000         0.000000         0.000000   \n",
            "50%         10.000000        5.000000         0.000000         0.000000   \n",
            "75%         25.000000       20.000000        10.000000        10.000000   \n",
            "max        100.000000      100.000000       100.000000       100.000000   \n",
            "\n",
            "       ConvertedCompYearly        JobSat  \n",
            "count         2.343500e+04  29126.000000  \n",
            "mean          8.615529e+04      6.935041  \n",
            "std           1.867570e+05      2.088259  \n",
            "min           1.000000e+00      0.000000  \n",
            "25%           3.271200e+04      6.000000  \n",
            "50%           6.500000e+04      7.000000  \n",
            "75%           1.079715e+05      8.000000  \n",
            "max           1.625660e+07     10.000000  \n"
          ]
        }
      ],
      "source": [
        "numerical_df = df.select_dtypes(include=['int64', 'float64'])\n",
        "print(\"Basic Statistics for Numerical Columns:\\n\", numerical_df.describe())"
      ],
      "execution_count": 9
    },
    {
      "cell_type": "markdown",
      "metadata": {
        "id": "8ca71359-8f5b-4f33-afe9-af011c2eae37"
      },
      "source": [
        "### 3. Identifying and Removing Inconsistencies\n"
      ]
    },
    {
      "cell_type": "markdown",
      "metadata": {
        "id": "224d423d-4338-423a-ae66-40981cc7809d"
      },
      "source": [
        "<h5>3.1 Identify inconsistent or irrelevant entries in specific columns (e.g., Country).</h5>\n"
      ]
    },
    {
      "cell_type": "code",
      "metadata": {
        "colab": {
          "base_uri": "https://localhost:8080/"
        },
        "id": "fd43fee0-2805-495c-93df-2f93fa2c35fa",
        "outputId": "ff4c5964-6663-4e95-d45f-daf808b91a57"
      },
      "outputs": [
        {
          "output_type": "stream",
          "name": "stdout",
          "text": [
            "Country Counts before removing NA:\n",
            " 54699\n",
            "Country Counts after removing NA:\n",
            " 54699\n"
          ]
        }
      ],
      "source": [
        "# Entries with leading or trailing whitespace\n",
        "df['Country'] = df['Country'].str.strip()\n",
        "\n",
        "print(\"Country Counts before removing NA:\\n\",df['Country'].count())\n",
        "# Entries that are clearly not countries\n",
        "df = df[df['Country'] != 'NA ']\n",
        "\n",
        "print(\"Country Counts after removing NA:\\n\",df['Country'].count())"
      ],
      "execution_count": 34
    },
    {
      "cell_type": "markdown",
      "metadata": {
        "id": "a32ff9e2-d19e-4175-9997-907c09a94df0"
      },
      "source": [
        "<h5>3.2 Standardize entries in columns like Country or EdLevel by mapping inconsistent values to a consistent format.</h5>\n"
      ]
    },
    {
      "cell_type": "code",
      "metadata": {
        "colab": {
          "base_uri": "https://localhost:8080/"
        },
        "id": "196a5909-90b5-4a2b-80cc-ca4427fb97f6",
        "outputId": "5c6fa118-b28d-43f6-bcd3-1e2a5b989225"
      },
      "outputs": [
        {
          "output_type": "stream",
          "name": "stdout",
          "text": [
            "Value Counts for Country after standardization:\n",
            " Country\n",
            "United States of America              11095\n",
            "Germany                                4947\n",
            "United Kingdom                         3224\n",
            "Ukraine                                2672\n",
            "France                                 2110\n",
            "                                      ...  \n",
            "Micronesia, Federated States of...        1\n",
            "Nauru                                     1\n",
            "Chad                                      1\n",
            "Djibouti                                  1\n",
            "Solomon Islands                           1\n",
            "Name: count, Length: 184, dtype: int64\n",
            "\n",
            "Value Counts for EdLevel after standardization:\n",
            " EdLevel\n",
            "Bachelor’s degree       21474\n",
            "Master’s degree         14258\n",
            "Study without degree     7268\n",
            "High school              5205\n",
            "Professional degree      2840\n",
            "Associate degree         1734\n",
            "Primary school           1073\n",
            "Other                     847\n",
            "Name: count, dtype: int64\n"
          ]
        }
      ],
      "source": [
        "# prompt: Standardize entries in columns like Country or EdLevel by mapping inconsistent values to a consistent format\n",
        "\n",
        "country_mapping = {\n",
        "    'United Kingdom of Great Britain and Northern Ireland': 'United Kingdom',\n",
        "}\n",
        "df['Country'] = df['Country'].replace(country_mapping)\n",
        "\n",
        "edlevel_mapping = {\n",
        "    'Master’s degree (M.A., M.S., M.Eng., MBA, etc.)': 'Master’s degree',\n",
        "    'Bachelor’s degree (B.A., B.S., B.Eng., etc.)': 'Bachelor’s degree',\n",
        "    'Some college/university study without earning a degree': 'Study without degree',\n",
        "    'Secondary school (e.g. American high school, German Realschule or Gymnasium, etc.)': 'High school',\n",
        "    'Associate degree (A.A., A.S., etc.)': 'Associate degree',\n",
        "    'Professional degree (JD, MD, Ph.D, Ed.D, etc.)': 'Professional degree',\n",
        "    'Other doctoral degree (Ph.D., Ed.D., etc.)': 'Doctoral degree',\n",
        "    'Primary/elementary school': 'Primary school',\n",
        "    'Something else': 'Other',\n",
        "    'NA': 'Not Applicable'\n",
        "}\n",
        "df['EdLevel'] = df['EdLevel'].replace(edlevel_mapping)\n",
        "\n",
        "print(\"Value Counts for Country after standardization:\\n\", df['Country'].value_counts())\n",
        "print(\"\\nValue Counts for EdLevel after standardization:\\n\", df['EdLevel'].value_counts())\n"
      ],
      "execution_count": 37
    },
    {
      "cell_type": "markdown",
      "metadata": {
        "id": "f3f7396f-8152-454d-b0d6-ee70eaba540d"
      },
      "source": [
        "### 4. Encoding Categorical Variables\n"
      ]
    },
    {
      "cell_type": "markdown",
      "metadata": {
        "id": "0e675dd9-b427-4c7a-92c2-b711a8ebb6a0"
      },
      "source": [
        "<h5>4.1 Encode the Employment column using one-hot encoding.</h5>\n"
      ]
    },
    {
      "cell_type": "code",
      "metadata": {
        "colab": {
          "base_uri": "https://localhost:8080/"
        },
        "id": "13bded1e-c766-46f0-9015-88228947549c",
        "outputId": "407fac32-b0c5-40fa-b470-1d6f75710cf8"
      },
      "outputs": [
        {
          "output_type": "stream",
          "name": "stdout",
          "text": [
            "   ResponseId                      MainBranch                 Age RemoteWork  \\\n",
            "0           1  I am a developer by profession  Under 18 years old     Remote   \n",
            "1           2  I am a developer by profession     35-44 years old     Remote   \n",
            "2           3  I am a developer by profession     45-54 years old     Remote   \n",
            "3           4           I am learning to code     18-24 years old        NaN   \n",
            "4           5  I am a developer by profession     18-24 years old        NaN   \n",
            "\n",
            "    Check                                   CodingActivities  \\\n",
            "0  Apples                                              Hobby   \n",
            "1  Apples  Hobby;Contribute to open-source projects;Other...   \n",
            "2  Apples  Hobby;Contribute to open-source projects;Other...   \n",
            "3  Apples                                                NaN   \n",
            "4  Apples                                                NaN   \n",
            "\n",
            "                                             EdLevel  \\\n",
            "0                          Primary/elementary school   \n",
            "1       Bachelor’s degree (B.A., B.S., B.Eng., etc.)   \n",
            "2    Master’s degree (M.A., M.S., M.Eng., MBA, etc.)   \n",
            "3  Some college/university study without earning ...   \n",
            "4  Secondary school (e.g. American high school, G...   \n",
            "\n",
            "                                           LearnCode  \\\n",
            "0                             Books / Physical media   \n",
            "1  Books / Physical media;Colleague;On the job tr...   \n",
            "2  Books / Physical media;Colleague;On the job tr...   \n",
            "3  Other online resources (e.g., videos, blogs, f...   \n",
            "4  Other online resources (e.g., videos, blogs, f...   \n",
            "\n",
            "                                     LearnCodeOnline  \\\n",
            "0                                                NaN   \n",
            "1  Technical documentation;Blogs;Books;Written Tu...   \n",
            "2  Technical documentation;Blogs;Books;Written Tu...   \n",
            "3  Stack Overflow;How-to videos;Interactive tutorial   \n",
            "4  Technical documentation;Blogs;Written Tutorial...   \n",
            "\n",
            "                                             TechDoc  ...  \\\n",
            "0                                                NaN  ...   \n",
            "1  API document(s) and/or SDK document(s);User gu...  ...   \n",
            "2  API document(s) and/or SDK document(s);User gu...  ...   \n",
            "3                                                NaN  ...   \n",
            "4  API document(s) and/or SDK document(s);User gu...  ...   \n",
            "\n",
            "  Employment_Student, full-time;Not employed, but looking for work;Not employed, and not looking for work;Student, part-time  \\\n",
            "0                                              False                                                                           \n",
            "1                                              False                                                                           \n",
            "2                                              False                                                                           \n",
            "3                                              False                                                                           \n",
            "4                                              False                                                                           \n",
            "\n",
            "  Employment_Student, full-time;Not employed, but looking for work;Retired  \\\n",
            "0                                              False                         \n",
            "1                                              False                         \n",
            "2                                              False                         \n",
            "3                                              False                         \n",
            "4                                              False                         \n",
            "\n",
            "  Employment_Student, full-time;Not employed, but looking for work;Student, part-time  \\\n",
            "0                                              False                                    \n",
            "1                                              False                                    \n",
            "2                                              False                                    \n",
            "3                                              False                                    \n",
            "4                                              False                                    \n",
            "\n",
            "  Employment_Student, full-time;Retired  \\\n",
            "0                                 False   \n",
            "1                                 False   \n",
            "2                                 False   \n",
            "3                                 False   \n",
            "4                                 False   \n",
            "\n",
            "  Employment_Student, full-time;Student, part-time  \\\n",
            "0                                            False   \n",
            "1                                            False   \n",
            "2                                            False   \n",
            "3                                            False   \n",
            "4                                            False   \n",
            "\n",
            "  Employment_Student, full-time;Student, part-time;Employed, part-time  \\\n",
            "0                                              False                     \n",
            "1                                              False                     \n",
            "2                                              False                     \n",
            "3                                              False                     \n",
            "4                                              False                     \n",
            "\n",
            "  Employment_Student, full-time;Student, part-time;Retired  \\\n",
            "0                                              False         \n",
            "1                                              False         \n",
            "2                                              False         \n",
            "3                                              False         \n",
            "4                                              False         \n",
            "\n",
            "  Employment_Student, part-time  \\\n",
            "0                         False   \n",
            "1                         False   \n",
            "2                         False   \n",
            "3                         False   \n",
            "4                         False   \n",
            "\n",
            "  Employment_Student, part-time;Employed, part-time  \\\n",
            "0                                             False   \n",
            "1                                             False   \n",
            "2                                             False   \n",
            "3                                             False   \n",
            "4                                             False   \n",
            "\n",
            "  Employment_Student, part-time;Retired  \n",
            "0                                 False  \n",
            "1                                 False  \n",
            "2                                 False  \n",
            "3                                 False  \n",
            "4                                 False  \n",
            "\n",
            "[5 rows x 223 columns]\n"
          ]
        }
      ],
      "source": [
        "df_encoded = pd.get_dummies(df, columns=['Employment'], prefix='Employment')\n",
        "print(df_encoded.head())"
      ],
      "execution_count": 51
    },
    {
      "cell_type": "markdown",
      "metadata": {
        "id": "fe0d75d2-209f-4c56-b14e-b2f8037e76d7"
      },
      "source": [
        "### 5. Handling Missing Values\n"
      ]
    },
    {
      "cell_type": "markdown",
      "metadata": {
        "id": "167edac3-f763-4689-89f9-c2b499fe6ceb"
      },
      "source": [
        "<h5>5.1 Identify columns with the highest number of missing values.</h5>\n"
      ]
    },
    {
      "cell_type": "code",
      "metadata": {
        "colab": {
          "base_uri": "https://localhost:8080/"
        },
        "id": "3b9b722d-ab02-4316-a64c-96fd10d57f09",
        "outputId": "22f342a8-845e-45e2-992c-31167914a013"
      },
      "outputs": [
        {
          "output_type": "stream",
          "name": "stdout",
          "text": [
            "Columns with missing values:\n",
            " RemoteWork             10631\n",
            "CodingActivities       10971\n",
            "EdLevel                 4653\n",
            "LearnCode               4949\n",
            "LearnCodeOnline        16200\n",
            "                       ...  \n",
            "JobSatPoints_11        35992\n",
            "SurveyLength            9255\n",
            "SurveyEase              9199\n",
            "ConvertedCompYearly    42002\n",
            "JobSat                 36311\n",
            "Length: 109, dtype: int64\n",
            "\n",
            "Columns with the highest number of missing values:\n",
            " AINextMuch less integrated       64289\n",
            "AINextLess integrated            63082\n",
            "AINextNo change                  52939\n",
            "AINextMuch more integrated       51999\n",
            "EmbeddedAdmired                  48704\n",
            "EmbeddedWantToWorkWith           47837\n",
            "EmbeddedHaveWorkedWith           43223\n",
            "ConvertedCompYearly              42002\n",
            "AIToolNot interested in Using    41023\n",
            "AINextMore integrated            41009\n",
            "dtype: int64\n"
          ]
        }
      ],
      "source": [
        "missing_counts = df.isnull().sum()\n",
        "print(\"Columns with missing values:\\n\", missing_counts[missing_counts > 0])\n",
        "\n",
        "# Identify columns with the highest number of missing values\n",
        "highest_missing_columns = missing_counts.nlargest(10) # Print the top 10 columns with most missing values\n",
        "\n",
        "print(\"\\nColumns with the highest number of missing values:\\n\", highest_missing_columns)\n"
      ],
      "execution_count": 52
    },
    {
      "cell_type": "markdown",
      "metadata": {
        "id": "3494af17-d786-412c-8fa5-93007c842385"
      },
      "source": [
        "<h5>5.2 Impute missing values in numerical columns (e.g., `ConvertedCompYearly`) with the mean or median.</h5>\n"
      ]
    },
    {
      "cell_type": "code",
      "metadata": {
        "colab": {
          "base_uri": "https://localhost:8080/"
        },
        "id": "5b4dc8e5-d3d2-449d-ae4e-022bd8ee36e3",
        "outputId": "1f16db96-cd90-4462-e4f5-9ed5b0638ffc"
      },
      "outputs": [
        {
          "output_type": "stream",
          "name": "stdout",
          "text": [
            "Missing values after imputing 'ConvertedCompYearly':\n",
            " 0\n"
          ]
        },
        {
          "output_type": "stream",
          "name": "stderr",
          "text": [
            "/tmp/ipython-input-53-644992170.py:2: FutureWarning: A value is trying to be set on a copy of a DataFrame or Series through chained assignment using an inplace method.\n",
            "The behavior will change in pandas 3.0. This inplace method will never work because the intermediate object on which we are setting values always behaves as a copy.\n",
            "\n",
            "For example, when doing 'df[col].method(value, inplace=True)', try using 'df.method({col: value}, inplace=True)' or df[col] = df[col].method(value) instead, to perform the operation inplace on the original object.\n",
            "\n",
            "\n",
            "  df['ConvertedCompYearly'].fillna(mean_ConvertedCompYearly, inplace=True)\n"
          ]
        }
      ],
      "source": [
        "mean_ConvertedCompYearly = df['ConvertedCompYearly'].mean()\n",
        "df['ConvertedCompYearly'].fillna(mean_ConvertedCompYearly, inplace=True)\n",
        "\n",
        "print(\"Missing values after imputing 'ConvertedCompYearly':\\n\", df['ConvertedCompYearly'].isnull().sum())"
      ],
      "execution_count": 53
    },
    {
      "cell_type": "markdown",
      "metadata": {
        "id": "b7aa6dd5-e442-4042-8e0b-7b047c5271c7"
      },
      "source": [
        "<h5>5.3 Impute missing values in categorical columns (e.g., `RemoteWork`) with the most frequent value.</h5>\n"
      ]
    },
    {
      "cell_type": "code",
      "metadata": {
        "colab": {
          "base_uri": "https://localhost:8080/"
        },
        "id": "3e8de2f3-b9f2-4b54-8545-cfab7573a4ce",
        "outputId": "bf449b99-8174-4a15-c37a-d2211515c1fc"
      },
      "outputs": [
        {
          "output_type": "stream",
          "name": "stdout",
          "text": [
            "Missing values after imputing 'RemoteWork':\n",
            " 0\n"
          ]
        },
        {
          "output_type": "stream",
          "name": "stderr",
          "text": [
            "/tmp/ipython-input-54-2621072542.py:2: FutureWarning: A value is trying to be set on a copy of a DataFrame or Series through chained assignment using an inplace method.\n",
            "The behavior will change in pandas 3.0. This inplace method will never work because the intermediate object on which we are setting values always behaves as a copy.\n",
            "\n",
            "For example, when doing 'df[col].method(value, inplace=True)', try using 'df.method({col: value}, inplace=True)' or df[col] = df[col].method(value) instead, to perform the operation inplace on the original object.\n",
            "\n",
            "\n",
            "  df['RemoteWork'].fillna(most_frequent_remotework, inplace=True)\n"
          ]
        }
      ],
      "source": [
        "most_frequent_remotework = df['RemoteWork'].mode()[0]\n",
        "df['RemoteWork'].fillna(most_frequent_remotework, inplace=True)\n",
        "\n",
        "print(\"Missing values after imputing 'RemoteWork':\\n\", df['RemoteWork'].isnull().sum())"
      ],
      "execution_count": 54
    },
    {
      "cell_type": "markdown",
      "metadata": {
        "id": "df590266-80ce-41e6-aec8-0e535b770629"
      },
      "source": [
        "### 6. Feature Scaling and Transformation\n"
      ]
    },
    {
      "cell_type": "markdown",
      "metadata": {
        "id": "11ac8b9d-3b1a-472f-b49a-d8d0299204dc"
      },
      "source": [
        "<h5>6.1 Apply Min-Max Scaling to normalize the `ConvertedCompYearly` column.</h5>\n"
      ]
    },
    {
      "cell_type": "code",
      "metadata": {
        "colab": {
          "base_uri": "https://localhost:8080/"
        },
        "id": "241cb998-7b86-412a-b45c-9463c1bbf02a",
        "outputId": "73714855-18ca-4eca-c156-e9cc4c315bc5"
      },
      "outputs": [
        {
          "output_type": "stream",
          "name": "stdout",
          "text": [
            "   ConvertedCompYearly  ConvertedCompYearly_scaled\n",
            "0         86155.287263                      0.0053\n",
            "1         86155.287263                      0.0053\n",
            "2         86155.287263                      0.0053\n",
            "3         86155.287263                      0.0053\n",
            "4         86155.287263                      0.0053\n",
            "\n",
            "Min of scaled 'ConvertedCompYearly': 0.0\n",
            "Max of scaled 'ConvertedCompYearly': 1.0\n"
          ]
        }
      ],
      "source": [
        "from sklearn.preprocessing import MinMaxScaler\n",
        "\n",
        "# Initialize the MinMaxScaler\n",
        "scaler = MinMaxScaler()\n",
        "\n",
        "# Apply Min-Max scaling to 'ConvertedCompYearly'\n",
        "df['ConvertedCompYearly_scaled'] = scaler.fit_transform(df[['ConvertedCompYearly']])\n",
        "\n",
        "# Display the first few rows to see the new scaled column\n",
        "print(df[['ConvertedCompYearly', 'ConvertedCompYearly_scaled']].head())\n",
        "\n",
        "# Display the min and max of the scaled column\n",
        "print(\"\\nMin of scaled 'ConvertedCompYearly':\", df['ConvertedCompYearly_scaled'].min())\n",
        "print(\"Max of scaled 'ConvertedCompYearly':\", df['ConvertedCompYearly_scaled'].max())"
      ],
      "execution_count": 55
    },
    {
      "cell_type": "markdown",
      "metadata": {
        "id": "e556a89e-8ab3-4eaa-9d75-ced79f89ed2c"
      },
      "source": [
        "<h5>6.2 Log-transform the ConvertedCompYearly column to reduce skewness.</h5>\n"
      ]
    },
    {
      "cell_type": "code",
      "metadata": {
        "colab": {
          "base_uri": "https://localhost:8080/"
        },
        "id": "5523f80b-9bcd-4761-a6ad-4f4705687f7f",
        "outputId": "16b4e34f-d617-457f-db89-07bd5cafc831"
      },
      "outputs": [
        {
          "output_type": "stream",
          "name": "stdout",
          "text": [
            "   ConvertedCompYearly  ConvertedCompYearly_log\n",
            "0         86155.287263                11.363918\n",
            "1         86155.287263                11.363918\n",
            "2         86155.287263                11.363918\n",
            "3         86155.287263                11.363918\n",
            "4         86155.287263                11.363918\n",
            "\n",
            "Skewness before log transformation: 88.42916521218113\n",
            "Skewness after log transformation: -4.394071138043888\n"
          ]
        }
      ],
      "source": [
        "import numpy as np\n",
        "\n",
        "# Apply log transformation to 'ConvertedCompYearly'\n",
        "# Add a small constant to handle zero values if necessary, although ConvertedCompYearly is typically > 0\n",
        "df['ConvertedCompYearly_log'] = np.log1p(df['ConvertedCompYearly']) # Using log1p(x) = log(1+x) for safety\n",
        "\n",
        "# Display the first few rows to see the new log-transformed column\n",
        "print(df[['ConvertedCompYearly', 'ConvertedCompYearly_log']].head())\n",
        "\n",
        "# Display the skewness before and after transformation\n",
        "print(\"\\nSkewness before log transformation:\", df['ConvertedCompYearly'].skew())\n",
        "print(\"Skewness after log transformation:\", df['ConvertedCompYearly_log'].skew())"
      ],
      "execution_count": 57
    },
    {
      "cell_type": "markdown",
      "metadata": {
        "id": "5d04a76c-224c-4182-9f4c-ff0ed5bac396"
      },
      "source": [
        "### 7. Feature Engineering\n"
      ]
    },
    {
      "cell_type": "markdown",
      "metadata": {
        "id": "a7cd7cc2-4615-4c03-a2a9-ed6a30ef2556"
      },
      "source": [
        "<h5>7.1 Create a new column `ExperienceLevel` based on the `YearsCodePro` column:</h5>\n"
      ]
    },
    {
      "cell_type": "code",
      "metadata": {
        "colab": {
          "base_uri": "https://localhost:8080/"
        },
        "id": "036d111c-2aac-4f34-9995-5d9fc75b1053",
        "outputId": "dd13b812-9445-4164-a5d1-1ddee83de92b"
      },
      "outputs": [
        {
          "output_type": "stream",
          "name": "stdout",
          "text": [
            "Value counts for 'ExperienceLevel':\n",
            " ExperienceLevel\n",
            "Mid-Level      21477\n",
            "Entry-Level    14115\n",
            "Senior         13112\n",
            "Name: count, dtype: int64\n",
            "   YearsCodePro ExperienceLevel\n",
            "0           NaN             NaN\n",
            "1          17.0          Senior\n",
            "2          27.0          Senior\n",
            "3           NaN             NaN\n",
            "4           NaN             NaN\n"
          ]
        }
      ],
      "source": [
        "# Convert 'YearsCodePro' to numeric, coercing errors to NaN\n",
        "df['YearsCodePro'] = pd.to_numeric(df['YearsCodePro'], errors='coerce')\n",
        "\n",
        "# Define the bins and labels for experience levels\n",
        "bins = [0, 5, 15, np.inf]\n",
        "labels = ['Entry-Level', 'Mid-Level', 'Senior']\n",
        "\n",
        "# Create the 'ExperienceLevel' column\n",
        "df['ExperienceLevel'] = pd.cut(df['YearsCodePro'], bins=bins, labels=labels, right=False)\n",
        "\n",
        "# Display the value counts of the new 'ExperienceLevel' column\n",
        "print(\"Value counts for 'ExperienceLevel':\\n\", df['ExperienceLevel'].value_counts())\n",
        "\n",
        "# Display the first few rows with the new column\n",
        "print(df[['YearsCodePro', 'ExperienceLevel']].head())"
      ],
      "execution_count": 58
    },
    {
      "cell_type": "markdown",
      "metadata": {
        "id": "9cb9db65-501b-4f0a-b514-5b77fe7172b1"
      },
      "source": [
        "### Summary\n"
      ]
    },
    {
      "cell_type": "markdown",
      "metadata": {
        "id": "10613a56-101f-4d4e-8d03-08bb7c5f54bc"
      },
      "source": [
        "In this lab, you:\n",
        "\n",
        "- Explored the dataset to identify inconsistencies and missing values.\n",
        "\n",
        "- Encoded categorical variables for analysis.\n",
        "\n",
        "- Handled missing values using imputation techniques.\n",
        "\n",
        "- Normalized and transformed numerical data to prepare it for analysis.\n",
        "\n",
        "- Engineered a new feature to enhance data interpretation.\n"
      ]
    },
    {
      "cell_type": "markdown",
      "metadata": {
        "id": "d65b9608-d5e2-4b31-a8ce-09231fafce5f"
      },
      "source": [
        "Copyright © IBM Corporation. All rights reserved.\n"
      ]
    }
  ],
  "metadata": {
    "kernelspec": {
      "display_name": "Python 3 (ipykernel)",
      "language": "python",
      "name": "python3"
    },
    "language_info": {
      "codemirror_mode": {
        "name": "ipython",
        "version": 3
      },
      "file_extension": ".py",
      "mimetype": "text/x-python",
      "name": "python",
      "nbconvert_exporter": "python",
      "pygments_lexer": "ipython3",
      "version": "3.11.9"
    },
    "prev_pub_hash": "1e8e234f19fd098e27b0518a87f18de690e1c51f1d3263d5690927d19971251e",
    "colab": {
      "provenance": []
    }
  },
  "nbformat": 4,
  "nbformat_minor": 0
}